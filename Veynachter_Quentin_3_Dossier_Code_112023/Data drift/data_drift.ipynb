{
 "cells": [
  {
   "cell_type": "code",
   "execution_count": 1,
   "id": "8d78d5ee-4a3f-431a-98b9-3c5ed9a025c9",
   "metadata": {},
   "outputs": [
    {
     "name": "stdout",
     "output_type": "stream",
     "text": [
      "Les colonnes correspondent !\n",
      "Création du rapport\n",
      "Exécution de l'analyse\n",
      "Temps total : 0:22:49\n",
      "Enregistrement du rapport\n"
     ]
    }
   ],
   "source": [
    "import numpy as np\n",
    "import pandas as pd \n",
    "import evidently\n",
    "from evidently.report import Report\n",
    "from evidently.metric_preset import DataDriftPreset\n",
    "from evidently import ColumnMapping\n",
    "import time\n",
    "from datetime import timedelta\n",
    "\n",
    "#On importe data_final et data_test, puis on retire les colonnes ID et target\n",
    "data_final = pd.read_parquet('../Artefacts/data_final.parquet')\n",
    "data_final = data_final.drop(columns=['TARGET', 'SK_ID_CURR'])\n",
    "data_test = pd.read_parquet('../Artefacts/data_test.parquet')\n",
    "data_test = data_test.drop(columns=['TARGET', 'SK_ID_CURR'])\n",
    "\n",
    "#Nos colonnes catégorielles ont été one-hot encodées, ce qui veut dire qu'on peut facilement les retrouver en isolant les colonnes qui ne peuvent prendre que les valeurs 0, 1 ou NaN\n",
    "cols_categ = [col for col in data_final.columns if data_final[col].dropna().isin([0, 1]).all()]\n",
    "\n",
    "#Le reste des colonnes est forcément numérique\n",
    "cols_num = [col for col in data_final.columns if col not in cols_categ]\n",
    "\n",
    "#Début du timer\n",
    "start_time = time.time()\n",
    "\n",
    "#Normalement c'est bon, mais on vérifie que les 2 dfs ont bien les mêmes colonnes\n",
    "assert set(data_final.columns) == set(data_test.columns)\n",
    "print('Les colonnes correspondent !') #Si assertion réussie\n",
    "\n",
    "#On créé un column mapping\n",
    "column_mapping = ColumnMapping()\n",
    "column_mapping.features_categ = cols_categ\n",
    "column_mapping.features_num = cols_num\n",
    "\n",
    "#On créé le rapport de data drift\n",
    "print('Création du rapport')\n",
    "data_drift_report = Report(metrics=[DataDriftPreset(num_stattest='ks', cat_stattest='psi', num_stattest_threshold=0.2, cat_stattest_threshold=0.2)])\n",
    "\n",
    "#On exécute l'analyse\n",
    "print(\"Exécution de l'analyse\")\n",
    "data_drift_report.run(reference_data=data_final, current_data=data_test, column_mapping=column_mapping)\n",
    "\n",
    "#Fin du timer\n",
    "end_time = time.time()\n",
    "temps_total = end_time - start_time\n",
    "temps_total = timedelta(seconds=int(temps_total))\n",
    "print('Temps total :', temps_total)\n",
    "\n",
    "#On enregistre le rapport en tant que fichier html\n",
    "print('Enregistrement du rapport')\n",
    "data_drift_report.save_html('../../Veynachter_Quentin_4_Tableau_HTML_Data_Drift_Evidently_112023.html')"
   ]
  }
 ],
 "metadata": {
  "kernelspec": {
   "display_name": "Python 3 (ipykernel)",
   "language": "python",
   "name": "python3"
  },
  "language_info": {
   "codemirror_mode": {
    "name": "ipython",
    "version": 3
   },
   "file_extension": ".py",
   "mimetype": "text/x-python",
   "name": "python",
   "nbconvert_exporter": "python",
   "pygments_lexer": "ipython3",
   "version": "3.11.7"
  }
 },
 "nbformat": 4,
 "nbformat_minor": 5
}
